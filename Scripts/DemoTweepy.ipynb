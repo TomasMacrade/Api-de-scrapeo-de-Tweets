{
 "cells": [
  {
   "cell_type": "code",
   "execution_count": 7,
   "metadata": {},
   "outputs": [
    {
     "name": "stdout",
     "output_type": "stream",
     "text": [
      "NicolasdelCano\n"
     ]
    },
    {
     "name": "stderr",
     "output_type": "stream",
     "text": [
      "Stopping after 20 empty pages\n"
     ]
    },
    {
     "name": "stdout",
     "output_type": "stream",
     "text": [
      "JMilei\n"
     ]
    },
    {
     "name": "stderr",
     "output_type": "stream",
     "text": [
      "Stopping after 20 empty pages\n"
     ]
    },
    {
     "name": "stdout",
     "output_type": "stream",
     "text": [
      "mariuvidal\n"
     ]
    },
    {
     "name": "stderr",
     "output_type": "stream",
     "text": [
      "Stopping after 20 empty pages\n"
     ]
    },
    {
     "name": "stdout",
     "output_type": "stream",
     "text": [
      "Kicillofok\n"
     ]
    },
    {
     "name": "stderr",
     "output_type": "stream",
     "text": [
      "Stopping after 20 empty pages\n"
     ]
    },
    {
     "name": "stdout",
     "output_type": "stream",
     "text": [
      "RAMIROMARRA\n"
     ]
    },
    {
     "name": "stderr",
     "output_type": "stream",
     "text": [
      "Stopping after 20 empty pages\n"
     ]
    },
    {
     "name": "stdout",
     "output_type": "stream",
     "text": [
      "jlespert\n"
     ]
    },
    {
     "name": "stderr",
     "output_type": "stream",
     "text": [
      "Stopping after 20 empty pages\n"
     ]
    },
    {
     "name": "stdout",
     "output_type": "stream",
     "text": [
      "PatoBullrich\n"
     ]
    },
    {
     "name": "stderr",
     "output_type": "stream",
     "text": [
      "Stopping after 20 empty pages\n"
     ]
    },
    {
     "name": "stdout",
     "output_type": "stream",
     "text": [
      "horaciorlarreta\n"
     ]
    },
    {
     "name": "stderr",
     "output_type": "stream",
     "text": [
      "Stopping after 20 empty pages\n"
     ]
    },
    {
     "name": "stdout",
     "output_type": "stream",
     "text": [
      "JuanGrabois\n"
     ]
    },
    {
     "name": "stderr",
     "output_type": "stream",
     "text": [
      "Stopping after 20 empty pages\n"
     ]
    },
    {
     "name": "stdout",
     "output_type": "stream",
     "text": [
      "SergioMassa\n"
     ]
    },
    {
     "name": "stderr",
     "output_type": "stream",
     "text": [
      "Stopping after 20 empty pages\n"
     ]
    },
    {
     "name": "stdout",
     "output_type": "stream",
     "text": [
      "myriambregman\n"
     ]
    },
    {
     "name": "stderr",
     "output_type": "stream",
     "text": [
      "Stopping after 20 empty pages\n"
     ]
    },
    {
     "name": "stdout",
     "output_type": "stream",
     "text": [
      "Solanopo\n"
     ]
    },
    {
     "name": "stderr",
     "output_type": "stream",
     "text": [
      "Stopping after 20 empty pages\n"
     ]
    }
   ],
   "source": [
    "# Requisitos\n",
    "\n",
    "# snscrape\n",
    "# pip install snscrape\n",
    "\n",
    "import snscrape.modules.twitter as sntwitter\n",
    "\n",
    "# Pandas\n",
    "# pip install pandas\n",
    "\n",
    "import pandas as pd\n",
    "\n",
    "# datetime\n",
    "\n",
    "import datetime\n",
    "\n",
    "# Matplotlib\n",
    "# pip install  matplotlib\n",
    "\n",
    "import matplotlib.pyplot as plt\n",
    "\n",
    "\n",
    "\n",
    "# Buscamos todos los tweets entre hoy y una semana para atrás, entonces guardamos variables con estas fechas\n",
    "Hoy = datetime.date.today() + datetime.timedelta(days=1)\n",
    "Una_Semana = Hoy - datetime.timedelta(days=8)\n",
    "\n",
    "# Usamos TwitterSearchScraper para recoger la información de los tweets de un usario y meterlo en la lista\n",
    "\n",
    "# Nombres candidatos\n",
    "Candidatos = [(\"DelCaño\",\"NicolasdelCano\",\"FIT\"),(\"Villarruel\",\"VickyVillarruel\",\"LLA\"),(\"Vidal\",\"mariuvidal\",\"JxC\"),(\"Kicillof\",\"Kicillofok\",\"FdT\"),(\"Marra\",\"RAMIROMARRA\",\"LLA\"),(\"Espert\",\"jlespert\",\"LLA\"),(\"Bullrich\",\"PatoBullrich\",\"JxC\"),(\"Larreta\",\"horaciorlarreta\",\"JxC\"),(\"Grabois\",\"JuanGrabois\",\"FdT\"),(\"Massa\",\"SergioMassa\",\"FdT\"),(\"Bregman\",\"myriambregman\",\"FIT\"),(\"Solano\",\"Solanopo\",\"FIT\")]\n",
    "\n",
    "# Buscamos los tweets de cada candidato\n",
    "for x in Candidatos:\n",
    "    informacion = [[tweet.date - datetime.timedelta(hours=3), tweet.likeCount, tweet.retweetCount,tweet.quoteCount, tweet.rawContent,tweet.url,x[0],x[2]] for tweet in sntwitter.TwitterSearchScraper('from:{} since:{} until:{}'.format(x[1],Una_Semana,Hoy)).get_items()]\n",
    "    globals()['tweets_df_' + x[0]] = pd.DataFrame(informacion, columns=[\"Fecha-Hora\", \"Cantidad de Likes\", \"Cantidad de retweets\",\"Veces citado\", \"Tweet\",\"url\",\"Candidato\",\"Espacio\"])\n",
    "# Organizamos todo dentro de un dataframe\n",
    "frames = [tweets_df_DelCaño,tweets_df_Villarruel,tweets_df_Vidal,tweets_df_Kicillof,tweets_df_Espert,tweets_df_Marra,tweets_df_Bullrich,tweets_df_Bregman,tweets_df_Grabois,tweets_df_Larreta,tweets_df_Massa,tweets_df_Solano]\n",
    "final = pd.concat(frames)\n",
    "\n",
    "# Guardamos el dataframe como .csv\n",
    "final.to_csv('../Data/Tweets.csv',index=False)  \n",
    "\n"
   ]
  },
  {
   "cell_type": "code",
   "execution_count": 8,
   "metadata": {},
   "outputs": [
    {
     "data": {
      "text/plain": [
       "Espert      59\n",
       "Bregman     59\n",
       "Solano      46\n",
       "Marra       43\n",
       "Vidal       24\n",
       "Massa       22\n",
       "Kicillof    18\n",
       "Bullrich    17\n",
       "Larreta     15\n",
       "DelCaño      9\n",
       "Grabois      7\n",
       "Name: Candidato, dtype: int64"
      ]
     },
     "execution_count": 8,
     "metadata": {},
     "output_type": "execute_result"
    }
   ],
   "source": [
    "final[\"Candidato\"].value_counts()"
   ]
  },
  {
   "cell_type": "code",
   "execution_count": 196,
   "metadata": {},
   "outputs": [],
   "source": [
    "# Tweets por semana por candidato\n",
    "\n",
    "Tw_x_Candidato =  final[\"Candidato\"].value_counts().sort_values()\n",
    "\n",
    "# Ploteo\n",
    "\n",
    "with plt.style.context('fivethirtyeight'):\n",
    "    for i in range(len(Tw_x_Candidato.index.tolist())):\n",
    "        if Tw_x_Candidato.index.tolist()[i] in [\"Bullrich\",\"Larreta\",\"Vidal\"]:\n",
    "            plt.barh(Tw_x_Candidato.index.tolist()[i], Tw_x_Candidato.values.tolist()[i], color ='Yellow',edgecolor='Black')\n",
    "        elif Tw_x_Candidato.index.tolist()[i] in [\"Massa\",\"Grabois\",\"Kicillof\"]:\n",
    "            plt.barh(Tw_x_Candidato.index.tolist()[i], Tw_x_Candidato.values.tolist()[i], color ='Blue',edgecolor='Black')\n",
    "        elif Tw_x_Candidato.index.tolist()[i] in [\"Solano\",\"Bregman\",\"DelCaño\"]:\n",
    "            plt.barh(Tw_x_Candidato.index.tolist()[i], Tw_x_Candidato.values.tolist()[i], color ='Red',edgecolor='Black')\n",
    "        else:\n",
    "            plt.barh(Tw_x_Candidato.index.tolist()[i], Tw_x_Candidato.values.tolist()[i], color ='Purple',edgecolor='Black')\n",
    "\n",
    "    for i in range(len(Tw_x_Candidato.index.tolist())):\n",
    "        plt.text(x = Tw_x_Candidato.values.tolist()[i]+2 , y = Tw_x_Candidato.index.tolist()[i], s = Tw_x_Candidato.values.tolist()[i], size = 10,va='center')\n",
    "    plt.ylabel(\"Candidato\")\n",
    "    plt.xlabel(\"Cantidad de Tweets\")\n",
    "    plt.title(\"Tweets por candidato en la última semana\")\n",
    "    plt.savefig('../Imagenes/TxC.png', bbox_inches='tight')\n",
    "    plt.clf()"
   ]
  },
  {
   "cell_type": "code",
   "execution_count": 197,
   "metadata": {},
   "outputs": [],
   "source": [
    "# Tweets por semana por espacio\n",
    "\n",
    "Tw_x_Candidato =  final[\"Espacio\"].value_counts().sort_values()\n",
    "\n",
    "# Ploteo\n",
    "\n",
    "with plt.style.context('fivethirtyeight'):\n",
    "    for i in range(len(Tw_x_Candidato.index.tolist())):\n",
    "        if Tw_x_Candidato.index.tolist()[i] in [\"JxC\"]:\n",
    "            plt.barh(Tw_x_Candidato.index.tolist()[i], Tw_x_Candidato.values.tolist()[i], color ='Yellow',edgecolor='Black')\n",
    "        elif Tw_x_Candidato.index.tolist()[i] in [\"FdT\"]:\n",
    "            plt.barh(Tw_x_Candidato.index.tolist()[i], Tw_x_Candidato.values.tolist()[i], color ='Blue',edgecolor='Black')\n",
    "        elif Tw_x_Candidato.index.tolist()[i] in [\"FIT\"]:\n",
    "            plt.barh(Tw_x_Candidato.index.tolist()[i], Tw_x_Candidato.values.tolist()[i], color ='Red',edgecolor='Black')\n",
    "        else:\n",
    "            plt.barh(Tw_x_Candidato.index.tolist()[i], Tw_x_Candidato.values.tolist()[i], color ='Purple',edgecolor='Black')\n",
    "\n",
    "    for i in range(len(Tw_x_Candidato.index.tolist())):\n",
    "        plt.text(x = Tw_x_Candidato.values.tolist()[i]+2 , y = Tw_x_Candidato.index.tolist()[i],va='center', s = Tw_x_Candidato.values.tolist()[i], size = 10)\n",
    "    plt.ylabel(\"Espacio\")\n",
    "    plt.xlabel(\"Cantidad de Tweets\")\n",
    "    plt.title(\"Tweets por espacio en la última semana\")\n",
    "    plt.savefig('../Imagenes/TxE.png', bbox_inches='tight')\n",
    "    plt.clf()\n",
    "\n"
   ]
  },
  {
   "cell_type": "code",
   "execution_count": 198,
   "metadata": {},
   "outputs": [
    {
     "name": "stderr",
     "output_type": "stream",
     "text": [
      "C:\\Users\\tomas\\AppData\\Local\\Temp\\ipykernel_15888\\1968558870.py:3: FutureWarning: The default value of numeric_only in DataFrameGroupBy.mean is deprecated. In a future version, numeric_only will default to False. Either specify numeric_only or select only columns which should be valid for the function.\n",
      "  tw = final.groupby(\"Candidato\").mean()\n"
     ]
    }
   ],
   "source": [
    "# (Mg promedio + Rt promedio + Citas promedio)/3 por candidato \n",
    "\n",
    "tw = final.groupby(\"Candidato\").mean()\n",
    "tw[\"Tot\"] = (tw[\"Cantidad de Likes\"] + tw[\"Cantidad de retweets\"] + tw[\"Veces citado\"])/3\n",
    "Tw_x_Candidato = tw[\"Tot\"].round(1).sort_values()\n",
    "# Ploteo\n",
    "\n",
    "with plt.style.context('fivethirtyeight'):\n",
    "    for i in range(len(Tw_x_Candidato.index.tolist())):\n",
    "        if Tw_x_Candidato.index.tolist()[i] in [\"Bullrich\",\"Larreta\",\"Vidal\"]:\n",
    "            plt.barh(Tw_x_Candidato.index.tolist()[i], Tw_x_Candidato.values.tolist()[i], color ='Yellow',edgecolor='Black')\n",
    "        elif Tw_x_Candidato.index.tolist()[i] in [\"Massa\",\"Grabois\",\"Kicillof\"]:\n",
    "            plt.barh(Tw_x_Candidato.index.tolist()[i], Tw_x_Candidato.values.tolist()[i], color ='Blue',edgecolor='Black')\n",
    "        elif Tw_x_Candidato.index.tolist()[i] in [\"Solano\",\"Bregman\",\"DelCaño\"]:\n",
    "            plt.barh(Tw_x_Candidato.index.tolist()[i], Tw_x_Candidato.values.tolist()[i], color ='Red',edgecolor='Black')\n",
    "        else:\n",
    "            plt.barh(Tw_x_Candidato.index.tolist()[i], Tw_x_Candidato.values.tolist()[i], color ='Purple',edgecolor='Black')\n",
    "\n",
    "    for i in range(len(Tw_x_Candidato.index.tolist())):\n",
    "        plt.text(x = Tw_x_Candidato.values.tolist()[i]+10 , y = Tw_x_Candidato.index.tolist()[i], s = Tw_x_Candidato.values.tolist()[i], size = 12,va='center')\n",
    "    plt.ylabel(\"Candidato\")\n",
    "    plt.xlabel(\"Índice de relevancia\")\n",
    "    plt.title(\"Relevancia por candidato en la última semana\")\n",
    "    plt.savefig('../Imagenes/RxC.png', bbox_inches='tight')\n",
    "    plt.clf()"
   ]
  },
  {
   "cell_type": "code",
   "execution_count": 199,
   "metadata": {},
   "outputs": [
    {
     "name": "stderr",
     "output_type": "stream",
     "text": [
      "C:\\Users\\tomas\\AppData\\Local\\Temp\\ipykernel_15888\\1663980109.py:3: FutureWarning: The default value of numeric_only in DataFrameGroupBy.mean is deprecated. In a future version, numeric_only will default to False. Either specify numeric_only or select only columns which should be valid for the function.\n",
      "  tw = final.groupby(\"Espacio\").mean()\n"
     ]
    }
   ],
   "source": [
    "# (Mg promedio + Rt promedio + Citas promedio)/3 por espacio\n",
    "\n",
    "tw = final.groupby(\"Espacio\").mean()\n",
    "tw[\"Tot\"] = (tw[\"Cantidad de Likes\"] + tw[\"Cantidad de retweets\"] + tw[\"Veces citado\"])/3\n",
    "Tw_x_Candidato = tw[\"Tot\"].round(1).sort_values()\n",
    "# Ploteo\n",
    "\n",
    "with plt.style.context('fivethirtyeight'):\n",
    "    for i in range(len(Tw_x_Candidato.index.tolist())):\n",
    "        if Tw_x_Candidato.index.tolist()[i] in [\"JxC\"]:\n",
    "            plt.barh(Tw_x_Candidato.index.tolist()[i], Tw_x_Candidato.values.tolist()[i], color ='Yellow',edgecolor='Black')\n",
    "        elif Tw_x_Candidato.index.tolist()[i] in [\"FdT\"]:\n",
    "            plt.barh(Tw_x_Candidato.index.tolist()[i], Tw_x_Candidato.values.tolist()[i], color ='Blue',edgecolor='Black')\n",
    "        elif Tw_x_Candidato.index.tolist()[i] in [\"FIT\"]:\n",
    "            plt.barh(Tw_x_Candidato.index.tolist()[i], Tw_x_Candidato.values.tolist()[i], color ='Red',edgecolor='Black')\n",
    "        else:\n",
    "            plt.barh(Tw_x_Candidato.index.tolist()[i], Tw_x_Candidato.values.tolist()[i], color ='Purple',edgecolor='Black')\n",
    "\n",
    "    for i in range(len(Tw_x_Candidato.index.tolist())):\n",
    "        plt.text(x = Tw_x_Candidato.values.tolist()[i]+2 , y = Tw_x_Candidato.index.tolist()[i],va='center', s = Tw_x_Candidato.values.tolist()[i], size = 12)\n",
    "    plt.ylabel(\"Espacio\")\n",
    "    plt.xlabel(\"Índice de relevancia\")\n",
    "    plt.title(\"Relevancia por espacio en la última semana\")\n",
    "    plt.savefig('../Imagenes/RxE.png', bbox_inches='tight')\n",
    "    plt.clf()\n"
   ]
  },
  {
   "cell_type": "code",
   "execution_count": 218,
   "metadata": {},
   "outputs": [],
   "source": [
    "# Actividad de los canidatos en la última semana\n",
    "Normalizado = final\n",
    "Normalizado[\"Fecha-Hora\"]=pd.to_datetime(Normalizado[\"Fecha-Hora\"]).dt.date\n",
    "\n",
    "# Para cada candidato\n",
    "for x in Candidatos:\n",
    "     Aux = Normalizado[Normalizado[\"Candidato\"]==x[0]]\n",
    "     Aux = Aux[\"Fecha-Hora\"].value_counts()\n",
    "     if x[0] in [\"Bullrich\",\"Larreta\",\"Vidal\"]:\n",
    "          c = \"goldenrod\"\n",
    "     elif x[0] in [\"Massa\",\"Grabois\",\"Kicillof\"]:\n",
    "          c = \"blue\"\n",
    "     elif x[0] in [\"Solano\",\"Bregman\",\"DelCaño\"]:\n",
    "          c= \"red\"\n",
    "     else:\n",
    "          c = \"purple\"\n",
    "     with plt.style.context('fivethirtyeight'):\n",
    "          Aux.plot(marker = \"o\",color = c,linestyle = \"--\")\n",
    "          plt.ylabel(\"Candidato\")\n",
    "          plt.xlabel(\"Fecha\")\n",
    "          plt.xticks(rotation=50)\n",
    "          plt.title(\"Cantidad de tweets de {} en la última semana\".format(x[0]))\n",
    "          plt.savefig('../Imagenes/{}.png'.format(x[0]), bbox_inches='tight')\n",
    "          plt.clf()\n",
    "\n",
    "          \n",
    "     \n"
   ]
  }
 ],
 "metadata": {
  "kernelspec": {
   "display_name": "Python 3",
   "language": "python",
   "name": "python3"
  },
  "language_info": {
   "codemirror_mode": {
    "name": "ipython",
    "version": 3
   },
   "file_extension": ".py",
   "mimetype": "text/x-python",
   "name": "python",
   "nbconvert_exporter": "python",
   "pygments_lexer": "ipython3",
   "version": "3.10.10"
  },
  "orig_nbformat": 4
 },
 "nbformat": 4,
 "nbformat_minor": 2
}
